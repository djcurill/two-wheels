{
 "cells": [
  {
   "cell_type": "code",
   "execution_count": 22,
   "id": "f809d002-b736-4a5f-990c-0e7754a438a0",
   "metadata": {},
   "outputs": [],
   "source": [
    "from scrape.crawler import PbCrawler\n",
    "from scrape.html import get_title\n",
    "from scrape.query_builder import QueryBuilder\n",
    "from app.constants import BikeCategory, Region\n",
    "from functools import partial\n",
    "from app import create_app, Brand\n",
    "import requests"
   ]
  },
  {
   "cell_type": "markdown",
   "id": "ee06c04c-018f-4708-a2cb-a57c81b7c3fb",
   "metadata": {
    "tags": []
   },
   "source": [
    "# Purpose of Notebook\n",
    "---\n",
    "This notebook will analyze some subset of pink bike data posts to determine what are some common bike models for each bike brand. The `PbCrawler` will walk though each page of the pink bike postings and extract each title. Given a list of titles, we will perform some simple summary statistics / data manipulation to determine common bike models that are associated with each brand. Emphasis on the word simple.\n",
    "\n",
    "The Bike model will be extracted from the title using two steps:\n",
    "1. Perform a regex match from a known bike brand\n",
    "2. Split on the regex match (if present) and take the second half of the title (referred to as the \"ending\")\n",
    "3. Strip the \"ending\" of the title from leading / trailing white space\n",
    "4. Take the first word (lol, works better than you think with large numbers)\n",
    "\n",
    "# Part I: Setup PbCrawler\n",
    "---\n",
    "The `PbCrawler` initialization takes in two key parameters:\n",
    "1. `QueryBuilder`: Build out query strings for any given `base_url`\n",
    "2. `mods`: List of functions that each extract data from BeautifulSoup nodes and returns a tuple with the structure `(key:str, value:str)`"
   ]
  },
  {
   "cell_type": "code",
   "execution_count": 23,
   "id": "310c0f48-3ea7-4118-90d0-87a8a4bc1e30",
   "metadata": {},
   "outputs": [],
   "source": [
    "base_url = \"https://www.pinkbike.com/buysell/list/\"\n",
    "category = BikeCategory.ENDURO.value\n",
    "region = Region.NORTH_AMERICA.value\n",
    "\n",
    "qb = (QueryBuilder(base_url)\n",
    "     .upsert_query(\"category\", category)\n",
    "     .upsert_query(\"region\", region))\n",
    "\n",
    "crawler = PbCrawler(qb, mods=[get_title])"
   ]
  },
  {
   "cell_type": "markdown",
   "id": "c814258f-706a-4545-aab7-7ec197073ad8",
   "metadata": {},
   "source": [
    "Using the `current_url` property, we can look at the url that would be accessed if were to call the `scrape_current_page` method."
   ]
  },
  {
   "cell_type": "code",
   "execution_count": 3,
   "id": "3a539685-cc3d-4136-86df-a015e9be5c82",
   "metadata": {},
   "outputs": [
    {
     "data": {
      "text/plain": [
       "'https://www.pinkbike.com/buysell/list/?category=2&region=3&page=1'"
      ]
     },
     "execution_count": 3,
     "metadata": {},
     "output_type": "execute_result"
    }
   ],
   "source": [
    "crawler.current_url"
   ]
  },
  {
   "cell_type": "markdown",
   "id": "fce8cd5b-8e7a-413c-905d-1e6c9731b5ef",
   "metadata": {},
   "source": [
    "# Get Bike Brands\n",
    "---\n",
    "The `app_context` for flask apps enables database access under its scope. All bike brands will be retrieved from the database and used for this analysis."
   ]
  },
  {
   "cell_type": "code",
   "execution_count": 24,
   "id": "41de29fd-87a7-4730-bd76-5a392e51a689",
   "metadata": {},
   "outputs": [],
   "source": [
    "app = create_app()\n",
    "brands = []\n",
    "with app.app_context():\n",
    "    brands.extend(Brand.query.all())"
   ]
  },
  {
   "cell_type": "code",
   "execution_count": 25,
   "id": "91eaa602-dd01-4b8e-b9c1-23804f1a11a7",
   "metadata": {},
   "outputs": [
    {
     "data": {
      "text/plain": [
       "<Brand(value = rocky mountain)>"
      ]
     },
     "execution_count": 25,
     "metadata": {},
     "output_type": "execute_result"
    }
   ],
   "source": [
    "brands[0]"
   ]
  },
  {
   "cell_type": "markdown",
   "id": "34bdadaf-d676-425a-b8bf-040a0f1edb6a",
   "metadata": {},
   "source": [
    "# Data Processing Functions\n",
    "---\n",
    "Below are two helper functions to extract words from the titles. \n",
    "1. `create_brand_matcher` returns a function that cross references title with a list of regex patterns of bike brands using regex.search\n",
    "2. `split_title_on_match` splits the title on the matching word (if any) and grabs the second half of the title"
   ]
  },
  {
   "cell_type": "code",
   "execution_count": 26,
   "id": "48380bf8-eb55-48f7-9f68-c85ee20aef6c",
   "metadata": {},
   "outputs": [
    {
     "name": "stdout",
     "output_type": "stream",
     "text": [
      "https://www.pinkbike.com/buysell/list/?category=2&region=3&page=1\n"
     ]
    }
   ],
   "source": [
    "results = list(crawler.scrape_current_page()) # use this to check out the scraped data"
   ]
  },
  {
   "cell_type": "code",
   "execution_count": 27,
   "id": "e26899f9-d01b-40bd-b56f-23f25f704bc8",
   "metadata": {},
   "outputs": [],
   "source": [
    "import re\n",
    "from typing import Pattern\n",
    "\n",
    "def create_brand_matcher(brands:list[Brand]) -> callable:\n",
    "    patterns = [re.compile(brand.value, re.IGNORECASE) for brand in brands]\n",
    "    \n",
    "    def _inner(s):\n",
    "        for pattern in patterns:\n",
    "            result = re.search(pattern, s)\n",
    "            if result:\n",
    "                return result\n",
    "    return _inner\n",
    "\n",
    "def split_title_on_match(title:str, matcher:callable):\n",
    "    match = matcher(title)\n",
    "    if match:\n",
    "        ending = title[match.end():].lower().strip()\n",
    "        model = ending.split(\" \")[0]\n",
    "        pattern = match.re.pattern\n",
    "        return (pattern, model)\n",
    "    return tuple()\n",
    "\n",
    "\n",
    "brand_extractor = create_brand_matcher(brands)"
   ]
  },
  {
   "cell_type": "markdown",
   "id": "e33b7a83-995d-4482-8ab1-51043fc18e79",
   "metadata": {},
   "source": [
    "# Pipeline\n",
    "---\n",
    "Code below will scrape through 50 pages of pink bike postings and scrape the titles. Upon completion of scraping web page data, the program will sleep for 2s to minimize the load on Pink Bike servers. After sleeping,\n",
    "the next page is then hit. "
   ]
  },
  {
   "cell_type": "code",
   "execution_count": 28,
   "id": "af75f06a-e52a-4aac-b21b-e89012bef6ec",
   "metadata": {},
   "outputs": [
    {
     "name": "stdout",
     "output_type": "stream",
     "text": [
      "https://www.pinkbike.com/buysell/list/?category=2&region=3&page=1\n",
      "https://www.pinkbike.com/buysell/list/?category=2&region=3&page=2\n",
      "https://www.pinkbike.com/buysell/list/?category=2&region=3&page=3\n",
      "https://www.pinkbike.com/buysell/list/?category=2&region=3&page=4\n",
      "https://www.pinkbike.com/buysell/list/?category=2&region=3&page=5\n",
      "https://www.pinkbike.com/buysell/list/?category=2&region=3&page=6\n",
      "https://www.pinkbike.com/buysell/list/?category=2&region=3&page=7\n",
      "https://www.pinkbike.com/buysell/list/?category=2&region=3&page=8\n",
      "https://www.pinkbike.com/buysell/list/?category=2&region=3&page=9\n",
      "https://www.pinkbike.com/buysell/list/?category=2&region=3&page=10\n",
      "https://www.pinkbike.com/buysell/list/?category=2&region=3&page=11\n",
      "https://www.pinkbike.com/buysell/list/?category=2&region=3&page=12\n",
      "https://www.pinkbike.com/buysell/list/?category=2&region=3&page=13\n",
      "https://www.pinkbike.com/buysell/list/?category=2&region=3&page=14\n",
      "https://www.pinkbike.com/buysell/list/?category=2&region=3&page=15\n",
      "https://www.pinkbike.com/buysell/list/?category=2&region=3&page=16\n",
      "https://www.pinkbike.com/buysell/list/?category=2&region=3&page=17\n",
      "https://www.pinkbike.com/buysell/list/?category=2&region=3&page=18\n",
      "https://www.pinkbike.com/buysell/list/?category=2&region=3&page=19\n",
      "https://www.pinkbike.com/buysell/list/?category=2&region=3&page=20\n",
      "https://www.pinkbike.com/buysell/list/?category=2&region=3&page=21\n",
      "https://www.pinkbike.com/buysell/list/?category=2&region=3&page=22\n",
      "https://www.pinkbike.com/buysell/list/?category=2&region=3&page=23\n",
      "https://www.pinkbike.com/buysell/list/?category=2&region=3&page=24\n",
      "https://www.pinkbike.com/buysell/list/?category=2&region=3&page=25\n",
      "https://www.pinkbike.com/buysell/list/?category=2&region=3&page=26\n",
      "https://www.pinkbike.com/buysell/list/?category=2&region=3&page=27\n",
      "https://www.pinkbike.com/buysell/list/?category=2&region=3&page=28\n",
      "https://www.pinkbike.com/buysell/list/?category=2&region=3&page=29\n",
      "https://www.pinkbike.com/buysell/list/?category=2&region=3&page=30\n",
      "https://www.pinkbike.com/buysell/list/?category=2&region=3&page=31\n",
      "https://www.pinkbike.com/buysell/list/?category=2&region=3&page=32\n",
      "https://www.pinkbike.com/buysell/list/?category=2&region=3&page=33\n",
      "https://www.pinkbike.com/buysell/list/?category=2&region=3&page=34\n",
      "https://www.pinkbike.com/buysell/list/?category=2&region=3&page=35\n",
      "https://www.pinkbike.com/buysell/list/?category=2&region=3&page=36\n",
      "https://www.pinkbike.com/buysell/list/?category=2&region=3&page=37\n",
      "https://www.pinkbike.com/buysell/list/?category=2&region=3&page=38\n",
      "https://www.pinkbike.com/buysell/list/?category=2&region=3&page=39\n",
      "https://www.pinkbike.com/buysell/list/?category=2&region=3&page=40\n",
      "https://www.pinkbike.com/buysell/list/?category=2&region=3&page=41\n",
      "https://www.pinkbike.com/buysell/list/?category=2&region=3&page=42\n",
      "https://www.pinkbike.com/buysell/list/?category=2&region=3&page=43\n",
      "https://www.pinkbike.com/buysell/list/?category=2&region=3&page=44\n",
      "https://www.pinkbike.com/buysell/list/?category=2&region=3&page=45\n",
      "https://www.pinkbike.com/buysell/list/?category=2&region=3&page=46\n",
      "https://www.pinkbike.com/buysell/list/?category=2&region=3&page=47\n",
      "https://www.pinkbike.com/buysell/list/?category=2&region=3&page=48\n",
      "https://www.pinkbike.com/buysell/list/?category=2&region=3&page=49\n",
      "https://www.pinkbike.com/buysell/list/?category=2&region=3&page=50\n"
     ]
    }
   ],
   "source": [
    "import time\n",
    "n = 50\n",
    "brand_models = dict()\n",
    "for post in crawler.crawl(50, patience=2):\n",
    "    match = split_title_on_match(post[\"title\"], brand_extractor)\n",
    "    if match:\n",
    "        pattern, ending = match\n",
    "        if pattern not in brand_models:\n",
    "            brand_models[pattern] = []\n",
    "        brand_models[pattern].append(ending)"
   ]
  },
  {
   "cell_type": "code",
   "execution_count": 32,
   "id": "cb35baf8-446e-41d6-88d5-463bb63f424f",
   "metadata": {},
   "outputs": [],
   "source": [
    "from collections import Counter\n",
    "count_dict = {key:Counter(values) for key,values in brand_models.items()}"
   ]
  },
  {
   "cell_type": "markdown",
   "id": "679540c5-2c51-489c-8c77-817fef31ba43",
   "metadata": {},
   "source": [
    "# Conclusion\n",
    "This process was rather hilarious, since it would be more accurate to just go to each company site and do it by hand. Still had a good time, and now we have \n",
    "some bike model data for a MVP product. Going forward, it may just be wiser to use current scraping methods to extract bike models from each company site. This will give is more information into the tiers of \n",
    "product they offer for each bike model. Don't get me started with Specialized's abyss of bike tiers ....\n",
    "\n",
    "See the intial results below. Most popular bike brands were compiled to a bikes.json file."
   ]
  },
  {
   "cell_type": "code",
   "execution_count": 33,
   "id": "ec85985f-461a-47d1-9e10-4069d277b3fa",
   "metadata": {},
   "outputs": [
    {
     "data": {
      "text/plain": [
       "{'trek': Counter({'fuel': 12,\n",
       "          'roscoe': 3,\n",
       "          'remedy': 10,\n",
       "          'slash': 4,\n",
       "          'top': 1,\n",
       "          '9.9': 1,\n",
       "          'project': 2,\n",
       "          'stache': 1,\n",
       "          'superfly': 2,\n",
       "          'full': 1,\n",
       "          'scratch': 1}),\n",
       " 'pivot': Counter({'mach': 10,\n",
       "          'firebird': 11,\n",
       "          'trail': 3,\n",
       "          'switchblade': 5,\n",
       "          'cycles': 1}),\n",
       " 'santa cruz': Counter({'bronson': 21,\n",
       "          'nomad': 17,\n",
       "          'megatower': 12,\n",
       "          'tallboy': 11,\n",
       "          '5010': 11,\n",
       "          'hightower': 14,\n",
       "          'e': 1,\n",
       "          ',': 1,\n",
       "          '5010c': 1,\n",
       "          'heckler.': 1,\n",
       "          'juliana': 1,\n",
       "          'a': 1,\n",
       "          'blur': 2,\n",
       "          '(megatower)': 1}),\n",
       " 'orbea': Counter({'occam': 1, 'wild': 1, 'oiz': 1, 'rallon': 1}),\n",
       " 'evil': Counter({'': 1,\n",
       "          'offering': 16,\n",
       "          'wreckoning': 5,\n",
       "          'calling': 2,\n",
       "          'following': 5,\n",
       "          'follow': 1,\n",
       "          'wreckoning(push': 1,\n",
       "          '-': 1,\n",
       "          'wreconing': 1,\n",
       "          'insurgent': 4,\n",
       "          'the': 1}),\n",
       " 'ibis': Counter({'ripmo': 14,\n",
       "          'ripley': 10,\n",
       "          'dv9': 1,\n",
       "          'mojo': 3,\n",
       "          'dv9,': 1,\n",
       "          'bow': 1}),\n",
       " 'specialized': Counter({'s-works': 5,\n",
       "          'stumpjumper': 31,\n",
       "          'pitch': 2,\n",
       "          'enduro': 32,\n",
       "          'turbo': 1,\n",
       "          'status': 7,\n",
       "          'rockhopper': 2,\n",
       "          'trail': 1,\n",
       "          'sworks': 1,\n",
       "          'fuse': 4,\n",
       "          'rhyme': 1,\n",
       "          'camber': 7,\n",
       "          'epic': 1,\n",
       "          's': 2,\n",
       "          'stumjumper': 2,\n",
       "          'levo': 2,\n",
       "          'sj': 1,\n",
       "          '-': 1,\n",
       "          'womens': 1}),\n",
       " 'norco': Counter({'optic': 7,\n",
       "          'range': 5,\n",
       "          'sight': 15,\n",
       "          'fluid': 7,\n",
       "          'storm': 1,\n",
       "          'shore': 2,\n",
       "          'empire': 1,\n",
       "          'mountaineer': 1,\n",
       "          'optic**price': 1,\n",
       "          'torrent': 3}),\n",
       " 'giant': Counter({'talon': 2,\n",
       "          'trance': 20,\n",
       "          'glory': 1,\n",
       "          'reign': 12,\n",
       "          'liv': 2,\n",
       "          'xtc': 1,\n",
       "          'stance': 3,\n",
       "          'sx': 1,\n",
       "          'fathom': 1,\n",
       "          '29er': 1}),\n",
       " 'kona': Counter({'process': 18,\n",
       "          'stuff': 1,\n",
       "          'honzo': 8,\n",
       "          'lava': 1,\n",
       "          '134': 2,\n",
       "          'fire': 1,\n",
       "          'big': 3,\n",
       "          'satori': 1,\n",
       "          'dawg': 1,\n",
       "          'explosif': 1,\n",
       "          'entourage': 1}),\n",
       " 'yeti': Counter({'sb150': 12,\n",
       "          'arc': 2,\n",
       "          'sb': 8,\n",
       "          'sb5.5': 5,\n",
       "          'sb115': 4,\n",
       "          'sb130': 7,\n",
       "          'sb140': 6,\n",
       "          'lunch': 1,\n",
       "          'sb130lr': 3,\n",
       "          'sb165': 2,\n",
       "          'sb95c': 1,\n",
       "          'sb6': 1,\n",
       "          'sb6c': 1}),\n",
       " 'rocky mountain': Counter({'altitude': 13,\n",
       "          'slayer': 16,\n",
       "          'thunderbolt': 4,\n",
       "          'instinct': 14,\n",
       "          'pipeline': 1,\n",
       "          'element': 1,\n",
       "          'growler': 1,\n",
       "          'fusion': 1,\n",
       "          'carbon': 1}),\n",
       " 'cannondale': Counter({'trail': 1, 'habit': 2, 'trigger': 1, '': 1}),\n",
       " 'liv': Counter({'embolden': 2, 'tempt': 1, 'entrigue': 1, 'piqué': 1}),\n",
       " 'commencal': Counter({'meta': 14, 'clash': 4, 'tr29': 1}),\n",
       " 'juliana': Counter({'furtado': 2, 'joplin': 3, 'roubion': 2}),\n",
       " 'niner': Counter({'rip': 6, 'jet': 1, 'wfo': 2, 'rip9': 1}),\n",
       " 'salsa': Counter({'rangefinder': 1,\n",
       "          'carbon': 1,\n",
       "          'timberjack': 2,\n",
       "          'cassidy': 1,\n",
       "          'horsethief': 1}),\n",
       " 'nukeproof': Counter({'mega': 6, 'scout': 1}),\n",
       " 'scott': Counter({'genius': 7, 'ransom': 3, 'voltage': 1}),\n",
       " 'gt': Counter({'sanction': 2,\n",
       "          'sensor': 1,\n",
       "          'bicycles': 1,\n",
       "          'force': 1,\n",
       "          'stingray': 1})}"
      ]
     },
     "execution_count": 33,
     "metadata": {},
     "output_type": "execute_result"
    }
   ],
   "source": [
    "count_dict"
   ]
  }
 ],
 "metadata": {
  "kernelspec": {
   "display_name": "venv",
   "language": "python",
   "name": "venv"
  },
  "language_info": {
   "codemirror_mode": {
    "name": "ipython",
    "version": 3
   },
   "file_extension": ".py",
   "mimetype": "text/x-python",
   "name": "python",
   "nbconvert_exporter": "python",
   "pygments_lexer": "ipython3",
   "version": "3.9.7"
  }
 },
 "nbformat": 4,
 "nbformat_minor": 5
}
